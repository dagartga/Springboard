{
 "cells": [
  {
   "cell_type": "markdown",
   "metadata": {},
   "source": [
    "## Bitcoin On-Chain Data Exploration\n",
    "\n",
    "This data was gathered from Glass Node. https://glassnode.com/ \n",
    "\n",
    "Glass Node is a platform that collects on-chain data from the Bitcoin blockchain. The Bitcoin blockchain is an open ledger that can be utilized and analyzed based available information such as the amount Bitcoin being moved around vs being stored long term, the number of new wallets being created to hold Bitcoin, whether Bitcoin is being moved to trading exchanges, and the price at which each Bitcoin was originally purchased to know whether it is in profit or loss. \n",
    "\n",
    "All data has been downloaded as csv files for ease of use during the exploratory analysis and may be a more streamlined use case for the learning process. API access is available for use with Glass Node which will give the possibility of daily updates and more insight into the price prediction. \n",
    "\n",
    "15 independent variable datasets were downloaded. 1 dependent variable (Price) dataset downloaded.\n",
    "\n",
    "**Data to be used: 14 independent variable datasets * roughly 3500 data points = 49000 independent data points**\n",
    "\n",
    "**After first look at the datasets, further analysis and cleaning needed, but the data wrangling is complete for initial training.**\n",
    "\n"
   ]
  },
  {
   "cell_type": "markdown",
   "metadata": {},
   "source": [
    "**Key Terms:**\n",
    "\n",
    "Bitcoin (BTC) - a digital currency is mined by computers through solving complicated math problems which in turn allow all bitcoin transactions to be verified and placed on to an open, online, immutable, pseudo-anonymous digital ledger called the blockchain. Bitcoin can be subdivided, so that values such as 0.01 bitcoin and smaller exist. \n",
    "\n",
    "Wallets - a location for storing bitcoin. The wallet has a public address which is shared and assigned to bitcoin units through the blockchain. Bitcoin can only be removed from the wallet using a private key which is not stored on the blockchain.\n",
    "\n",
    "Address - a unique 26-35 string of alphabetic and numerica characters. When bitcoin is sent to an address, that bitcoin is now linked to that address, which is the idea of a wallet for it cannot leave that address/wallet until the owner of the wallet provides the private key for the wallet.\n",
    "\n",
    "Mining/Miners - computers that create bitcoin through solving complicated math problems and verifying transactions are valid with the rest of the public blockchain. Miners get rewarded in bitcoin when they solve the math problem which then allows the miner to add a block of bitcoin transactions to the blockchain, which is the open ledger of all bitcoin transactions."
   ]
  },
  {
   "cell_type": "code",
   "execution_count": 1,
   "metadata": {},
   "outputs": [],
   "source": [
    "import pandas as pd\n",
    "import matplotlib.pyplot as plt\n",
    "%matplotlib inline"
   ]
  },
  {
   "cell_type": "markdown",
   "metadata": {},
   "source": [
    "## Price\n",
    "This is the dependent variable or label that will be used for the machine learning."
   ]
  },
  {
   "cell_type": "code",
   "execution_count": 2,
   "metadata": {},
   "outputs": [
    {
     "name": "stdout",
     "output_type": "stream",
     "text": [
      "              timestamp     value\n",
      "0  2010-07-17T00:00:00Z  0.049510\n",
      "1  2010-07-18T00:00:00Z  0.085840\n",
      "2  2010-07-19T00:00:00Z  0.080800\n",
      "3  2010-07-20T00:00:00Z  0.074733\n",
      "4  2010-07-21T00:00:00Z  0.079210 \n",
      "\n",
      "Number of missing values:\n",
      " timestamp    0\n",
      "value        0\n",
      "dtype: int64 \n",
      "\n",
      "(3983, 2) \n",
      "\n",
      "              value\n",
      "count   3983.000000\n",
      "mean    4818.315246\n",
      "std     9928.110057\n",
      "min        0.049510\n",
      "25%       85.049463\n",
      "50%      581.290525\n",
      "75%     6736.971907\n",
      "max    63603.708172\n",
      "\n",
      "Date range is: 2010-07-17T00:00:00Z to 2021-06-11T00:00:00Z\n"
     ]
    }
   ],
   "source": [
    "# import price data and rough analysis\n",
    "price = pd.read_csv(r'C:\\Users\\dagar\\Bitcoin_Data_Capstone\\price.csv')\n",
    "print(price.head(), '\\n')\n",
    "print('Number of missing values:\\n', price.isna().sum(), '\\n')\n",
    "print(price.shape, '\\n')\n",
    "print(price.describe())\n",
    "print('\\nDate range is:', price.iloc[0,0], 'to',price.iloc[3982,0])"
   ]
  },
  {
   "cell_type": "markdown",
   "metadata": {},
   "source": [
    "There are no missing values in the dataset. The date range is from July 17, 2010 to June 11, 2021. There are no values that look suspicious from the data description."
   ]
  },
  {
   "cell_type": "markdown",
   "metadata": {},
   "source": [
    "## SOPR\n",
    "\n",
    "The Spent Output Profit Ratio (SOPR) is a daily cumulative value computed by dividing the price sold by the price paid for a unit of Bitcoin. This incidates that when SOPR is relatively high the price most units are being sold for is significantly higher than the price paid for those bitcoin originally. Vice versa, when SOPR is low the price the unit of Bitcoin is being sold is close or below the price it was previously purchased."
   ]
  },
  {
   "cell_type": "code",
   "execution_count": 3,
   "metadata": {},
   "outputs": [
    {
     "name": "stdout",
     "output_type": "stream",
     "text": [
      "              timestamp     value\n",
      "0  2010-07-17T00:00:00Z  1.000000\n",
      "1  2010-07-18T00:00:00Z  1.174760\n",
      "2  2010-07-19T00:00:00Z  1.318536\n",
      "3  2010-07-20T00:00:00Z  1.090517\n",
      "4  2010-07-21T00:00:00Z  1.065532 \n",
      "\n",
      "Number of missing values:\n",
      " timestamp    0\n",
      "value        0\n",
      "dtype: int64 \n",
      "\n",
      "(3982, 2) \n",
      "\n",
      "             value\n",
      "count  3982.000000\n",
      "mean      1.010183\n",
      "std       0.047503\n",
      "min       0.647491\n",
      "25%       0.997017\n",
      "50%       1.003105\n",
      "75%       1.012456\n",
      "max       1.896209\n",
      "\n",
      "Date range is: 2010-07-17T00:00:00Z to 2021-06-10T00:00:00Z\n"
     ]
    }
   ],
   "source": [
    "sopr = pd.read_csv(r'C:/Users/dagar/Bitcoin_Data_Capstone/sopr.csv')\n",
    "print(sopr.head(), '\\n')\n",
    "print('Number of missing values:\\n', sopr.isna().sum(), '\\n')\n",
    "print(sopr.shape, '\\n')\n",
    "print(sopr.describe())\n",
    "print('\\nDate range is:', sopr.iloc[0,0], 'to',sopr.iloc[3981,0])"
   ]
  },
  {
   "cell_type": "markdown",
   "metadata": {},
   "source": [
    "There are no missing values in the SOPR dataset. The date range is July 7, 2010 to June 10, 2021 which is one day less than the price."
   ]
  },
  {
   "cell_type": "markdown",
   "metadata": {},
   "source": [
    "## RHODL Ratio\n",
    "\n",
    "The Realized \"Hold On For Dear Life\" (HODL) Ratio is a market indicator that uses a ratio of the Realized Cap HODL Waves. The term HODL references Bitcoin wallets that hold on to their Bitcoin rather than selling frequently, especially during price declines. The Realized Cap HODL Waves is a data metric which expresses the percentage of Bitcoin that have been held in a single wallet for various timespans (>10yr, 7-10yr, 5-7yr, 3-5yr, 2-3yr, 1-2yr, 6-12mo, 3-6mo, 1-3mo, 1w-1m, 1d-1w, 24h) The RHODL Ratio takes the ratio between the 1 week and the 1-2 years Realized Cap HODL Waves, and weights the ratio by the total market age to account for the number of new coins entering the market.\n",
    "\n",
    "A high ratio tends to indicate an overheated market since that indicates that a lot of coins that were held for 1-2 years are being sold which usually implies that 1-2yr investors are taking profits at the expense of new buyers."
   ]
  },
  {
   "cell_type": "code",
   "execution_count": 4,
   "metadata": {},
   "outputs": [
    {
     "name": "stdout",
     "output_type": "stream",
     "text": [
      "              timestamp     value\n",
      "0  2010-08-17T00:00:00Z  0.202554\n",
      "1  2010-08-18T00:00:00Z  0.388194\n",
      "2  2010-08-19T00:00:00Z  0.581370\n",
      "3  2010-08-20T00:00:00Z  0.735485\n",
      "4  2010-08-21T00:00:00Z  0.965442 \n",
      "\n",
      "Number of missing values:\n",
      " timestamp    0\n",
      "value        0\n",
      "dtype: int64 \n",
      "\n",
      "(3951, 2) \n",
      "\n",
      "               value\n",
      "count    3951.000000\n",
      "mean     8885.391266\n",
      "std     20411.471636\n",
      "min         0.202554\n",
      "25%       525.344392\n",
      "50%      1853.958238\n",
      "75%      8449.198447\n",
      "max    219470.016332\n",
      "\n",
      "Date range is: 2010-08-17T00:00:00Z to 2021-06-10T00:00:00Z\n"
     ]
    }
   ],
   "source": [
    "rhodl = pd.read_csv(r'C:/Users/dagar/Bitcoin_Data_Capstone/rhodl-ratio.csv')\n",
    "print(rhodl.head(), '\\n')\n",
    "print('Number of missing values:\\n', rhodl.isna().sum(), '\\n')\n",
    "print(rhodl.shape, '\\n')\n",
    "print(rhodl.describe())\n",
    "print('\\nDate range is:', rhodl.iloc[0,0], 'to',rhodl.iloc[3950,0])"
   ]
  },
  {
   "cell_type": "markdown",
   "metadata": {},
   "source": [
    "There are no missing values from the Rhodl dataset. The max value is significantly higher than the third quartile value. That along with the fact that the range is quite large may indicate some processing will be needed. The date range is from August 17, 2010 to June 06, 2021, which is a smaller date range from the previous datasets, but still a very a large dataset to provide insights. This may end up being the data range used."
   ]
  },
  {
   "cell_type": "markdown",
   "metadata": {},
   "source": [
    "## Reserve-Risk\n",
    "\n",
    "Reserve Risk is defined as the price divided by HODL Bank. I am unclear on what constitutes the HODL Bank from the documentation, but I will tentatively assume it is the amount of Bitcoin being held in a wallet >1 year. The Reserve Risk metric can be used to assess confidence of long-term holders relative to the price. When the confidence is high and the price is low, which would be indicated by a low reserve risk (low price/high number of long term holders), then the prospect of purchasing Bitcoin tends to be very profitable.\n"
   ]
  },
  {
   "cell_type": "code",
   "execution_count": 5,
   "metadata": {},
   "outputs": [
    {
     "name": "stdout",
     "output_type": "stream",
     "text": [
      "              timestamp     value\n",
      "0  2010-08-15T00:00:00Z  1.132036\n",
      "1  2010-08-16T00:00:00Z  0.560768\n",
      "2  2010-08-17T00:00:00Z  0.373186\n",
      "3  2010-08-18T00:00:00Z  0.294741\n",
      "4  2010-08-19T00:00:00Z  0.224639 \n",
      "\n",
      "Number of missing values:\n",
      " timestamp    0\n",
      "value        0\n",
      "dtype: int64 \n",
      "\n",
      "(3953, 2) \n",
      "\n",
      "             value\n",
      "count  3953.000000\n",
      "mean      0.007465\n",
      "std       0.023692\n",
      "min       0.000970\n",
      "25%       0.001956\n",
      "50%       0.003420\n",
      "75%       0.007418\n",
      "max       1.132036\n",
      "\n",
      "Date range is: 2010-08-15T00:00:00Z to 2021-06-10T00:00:00Z\n"
     ]
    }
   ],
   "source": [
    "res_risk = pd.read_csv(r'C:/Users/dagar/Bitcoin_Data_Capstone/reserve-risk.csv')\n",
    "print(res_risk.head(), '\\n')\n",
    "print('Number of missing values:\\n', res_risk.isna().sum(), '\\n')\n",
    "print(res_risk.shape, '\\n')\n",
    "print(res_risk.describe())\n",
    "print('\\nDate range is:', res_risk.iloc[0,0], 'to', res_risk.iloc[3952,0])"
   ]
  },
  {
   "cell_type": "markdown",
   "metadata": {},
   "source": [
    "There is no missing data from the Reserve Risk dataset.The unit of account for this metric looks like it may need to be adjusted. The range is quite significant and it may need adjusting. Here the date range is August 15, 2010 to June 10, 2021 which is a smaller range than the price data, but still a sizeable range for data analysis use."
   ]
  },
  {
   "cell_type": "markdown",
   "metadata": {},
   "source": [
    "## Puell Multiple\n",
    "\n",
    "The Puell Multiple is calculated by the daily issuance value of bitcoins by the 365-day moving average of daily issuance value. This will reach high values when the price of bitcoin is well above the average price for the previous 365 days. This can signal the end of a bull market or the top of a bull market run. On the opposite end, when the Puell Multiple is low the price of bitcoin is well below the average price for the previous 365 days and can signal the bottom of a bear market."
   ]
  },
  {
   "cell_type": "code",
   "execution_count": 6,
   "metadata": {},
   "outputs": [
    {
     "name": "stdout",
     "output_type": "stream",
     "text": [
      "              timestamp     value\n",
      "0  2011-07-16T00:00:00Z  3.656330\n",
      "1  2011-07-17T00:00:00Z  3.830945\n",
      "2  2011-07-18T00:00:00Z  3.691357\n",
      "3  2011-07-19T00:00:00Z  3.244558\n",
      "4  2011-07-20T00:00:00Z  3.366804 \n",
      "\n",
      "Number of missing values:\n",
      " timestamp    0\n",
      "value        0\n",
      "dtype: int64 \n",
      "\n",
      "(3618, 2) \n",
      "\n",
      "             value\n",
      "count  3618.000000\n",
      "mean      1.477589\n",
      "std       1.092461\n",
      "min       0.283478\n",
      "25%       0.745061\n",
      "50%       1.173240\n",
      "75%       1.862356\n",
      "max      10.167732\n",
      "\n",
      "Date range is: 2011-07-16T00:00:00Z to 2021-06-10T00:00:00Z\n"
     ]
    }
   ],
   "source": [
    "puell = pd.read_csv(r'C:/Users/dagar/Bitcoin_Data_Capstone/puell-multiple.csv')\n",
    "print(puell.head(), '\\n')\n",
    "print('Number of missing values:\\n', puell.isna().sum(), '\\n')\n",
    "print(puell.shape, '\\n')\n",
    "print(puell.describe())\n",
    "print('\\nDate range is:', puell.iloc[0,0], 'to',puell.iloc[3617,0])"
   ]
  },
  {
   "cell_type": "markdown",
   "metadata": {},
   "source": [
    "The Puell Multiple does not have any missing data points. The range of data looks appropriate and a reasonable spread. The date range is from July 16, 2011 to June 10, 2021, which is the smallest date range so far. This can still be used since it represents 3618 data points and covers 90.9% of the price data points."
   ]
  },
  {
   "cell_type": "markdown",
   "metadata": {},
   "source": [
    "## NVT Ratio\n",
    "\n",
    "The Network Value to Transactions Ratio is the bitcoin market cap divided by the transferred on-chain volume measured in USD. This gives insight into the percentage of bitcoin value that is being moved between parties on a daily basis. This metric gives some insight into the utility of Bitcoin compared to its price in USD."
   ]
  },
  {
   "cell_type": "code",
   "execution_count": 7,
   "metadata": {},
   "outputs": [
    {
     "name": "stdout",
     "output_type": "stream",
     "text": [
      "              timestamp       value\n",
      "0  2010-07-18T00:00:00Z   95.861836\n",
      "1  2010-07-19T00:00:00Z   73.314284\n",
      "2  2010-07-20T00:00:00Z  115.888962\n",
      "3  2010-07-21T00:00:00Z  125.705527\n",
      "4  2010-07-22T00:00:00Z   87.922220 \n",
      "\n",
      "Number of missing values:\n",
      " timestamp    0\n",
      "value        0\n",
      "dtype: int64 \n",
      "\n",
      "(3981, 2) \n",
      "\n",
      "             value\n",
      "count  3981.000000\n",
      "mean     24.009796\n",
      "std      26.190820\n",
      "min       0.224882\n",
      "25%      10.391571\n",
      "50%      18.529059\n",
      "75%      29.717838\n",
      "max     448.150102\n",
      "\n",
      "Date range is: 2010-07-18T00:00:00Z to 2021-06-10T00:00:00Z\n"
     ]
    }
   ],
   "source": [
    "nvt = pd.read_csv(r'C:/Users/dagar/Bitcoin_Data_Capstone/nvt-ratio.csv')\n",
    "print(nvt.head(), '\\n')\n",
    "print('Number of missing values:\\n', nvt.isna().sum(), '\\n')\n",
    "print(nvt.shape, '\\n')\n",
    "print(nvt.describe())\n",
    "print('\\nDate range is:', nvt.iloc[0,0], 'to', nvt.iloc[3980,0])"
   ]
  },
  {
   "cell_type": "markdown",
   "metadata": {},
   "source": [
    "There are no missing values for the NVT data. The data value range has some potential outliers and may need to be manipulated. The date range is July 18, 2010 to June 10, 2021, which gives a large number of data points."
   ]
  },
  {
   "cell_type": "markdown",
   "metadata": {},
   "source": [
    "## New Addresses\n",
    "\n",
    "This is the number of unique addresses that apper for the first time on the blockchain for a bitcoin transaction. While new addresses do not indicate that the person buying is a first time bitcoin buyer, when taken in aggregate it will tend to show the overall trend of new buyers coming in or leaving the market based on its number. Higher number of new addresses gives the implication of a lot of market with many first time buyers. Lower number of new addresses gives the implication of a market with mostly experienced bitcoin buyers."
   ]
  },
  {
   "cell_type": "code",
   "execution_count": 8,
   "metadata": {},
   "outputs": [
    {
     "name": "stdout",
     "output_type": "stream",
     "text": [
      "              timestamp  value\n",
      "0  2011-08-28T00:00:00Z  11561\n",
      "1  2011-08-29T00:00:00Z  11413\n",
      "2  2011-08-30T00:00:00Z   9275\n",
      "3  2011-08-31T00:00:00Z   8974\n",
      "4  2011-09-01T00:00:00Z   8721 \n",
      "\n",
      "Number of missing values:\n",
      " timestamp    0\n",
      "value        0\n",
      "dtype: int64 \n",
      "\n",
      "(3575, 2) \n",
      "\n",
      "               value\n",
      "count    3575.000000\n",
      "mean   234649.834126\n",
      "std    168169.468753\n",
      "min      4241.000000\n",
      "25%     75776.000000\n",
      "50%    243043.000000\n",
      "75%    367866.500000\n",
      "max    800180.000000\n",
      "\n",
      "Date range is: 2011-08-28T00:00:00Z to 2021-06-10T00:00:00Z\n"
     ]
    }
   ],
   "source": [
    "new_add = pd.read_csv(r'C:/Users/dagar/Bitcoin_Data_Capstone/new-addresses.csv')\n",
    "print(new_add.head(), '\\n')\n",
    "print('Number of missing values:\\n', new_add.isna().sum(), '\\n')\n",
    "print(new_add.shape, '\\n')\n",
    "print(new_add.describe())\n",
    "print('\\nDate range is:', new_add.iloc[0,0], 'to', new_add.iloc[3574,0])"
   ]
  },
  {
   "cell_type": "markdown",
   "metadata": {},
   "source": [
    "The New Addresses data does not have any missing data. The range of values looks appropriate. The date range is August 28, 2011 to June 10, 2021 which is the smallest date range so far yet still covers 90% of the price data, thus big enough for analysis"
   ]
  },
  {
   "cell_type": "markdown",
   "metadata": {},
   "source": [
    "## NUPL\n",
    "Net Unrealized Profit/Loss is the count of the number of bitcoins that have relative unrealized profit minus count of the number of bitcoins with relative unrealized loss. A unit of bitcoin is deemed an unrealized profit if the current price minus the previous purchase price results in a positive value, a profit. The relative unrealized loss is the same calculation but where the result is a negative value, a loss. The data is then normalized against the total cumulative number of bitcoin transactions.\n",
    "\n",
    "This metric gives insight into how many people are hodling bitcoin which they can sell for a profit, which when that number gets high, could predict a sell off for those wanting to realize their gains."
   ]
  },
  {
   "cell_type": "code",
   "execution_count": 9,
   "metadata": {},
   "outputs": [
    {
     "name": "stdout",
     "output_type": "stream",
     "text": [
      "              timestamp     value\n",
      "0  2010-07-18T00:00:00Z  0.421756\n",
      "1  2010-07-19T00:00:00Z  0.380821\n",
      "2  2010-07-20T00:00:00Z  0.328775\n",
      "3  2010-07-21T00:00:00Z  0.365481\n",
      "4  2010-07-22T00:00:00Z  0.102038 \n",
      "\n",
      "Number of missing values:\n",
      " timestamp    0\n",
      "value        0\n",
      "dtype: int64 \n",
      "\n",
      "(3981, 2) \n",
      "\n",
      "             value\n",
      "count  3981.000000\n",
      "mean      0.331661\n",
      "std       0.318370\n",
      "min      -1.556947\n",
      "25%       0.195707\n",
      "50%       0.404822\n",
      "75%       0.553495\n",
      "max       0.877967\n",
      "\n",
      "Date range is: 2010-07-18T00:00:00Z to 2021-06-10T00:00:00Z\n"
     ]
    }
   ],
   "source": [
    "nupl = pd.read_csv(r'C:/Users/dagar/Bitcoin_Data_Capstone/nupl.csv')\n",
    "print(nupl.head(), '\\n')\n",
    "print('Number of missing values:\\n', nupl.isna().sum(), '\\n')\n",
    "print(nupl.shape, '\\n')\n",
    "print(nupl.describe())\n",
    "print('\\nDate range is:', nupl.iloc[0,0], 'to', nupl.iloc[3980,0])"
   ]
  },
  {
   "cell_type": "markdown",
   "metadata": {},
   "source": [
    "There are no missing values in the NUPL dataset. The range of values looks fairly good though the minimum will have to be investigated more as it seems a bit odd to be smaller than -1.0 for a normalized dataset. The date range is almost equal to the price date range."
   ]
  },
  {
   "cell_type": "markdown",
   "metadata": {},
   "source": [
    "## MVRV Ratio\n",
    "\n",
    "Market Value to Realized Value (MVRV) is the ratio between market cap and realized cap. Market cap is calculated by multiplying the latest Bitcoin price by the total number of bitcoins mined thus far. The realized cap is calculated by weighing the count of each unit of bitcoin based on the market price at which the unit of bitcoin was last transacted. When the MVRV value is high, the implication is that bitcoin is overvalued and the market cap is significantly higher than value of the coins based on their purchase price. Conversely. when the MVRV value is low, the implication is that bitcoin is undervalued.\n",
    "\n",
    "This can express the sentiment of speculators vs holders or high time preference vs low time preference. \n"
   ]
  },
  {
   "cell_type": "code",
   "execution_count": 10,
   "metadata": {},
   "outputs": [
    {
     "name": "stdout",
     "output_type": "stream",
     "text": [
      "              timestamp     value\n",
      "0  2010-07-17T00:00:00Z  1.000000\n",
      "1  2010-07-18T00:00:00Z  1.300600\n",
      "2  2010-07-19T00:00:00Z  1.814750\n",
      "3  2010-07-20T00:00:00Z  1.586253\n",
      "4  2010-07-21T00:00:00Z  1.399411 \n",
      "\n",
      "Number of missing values:\n",
      " timestamp    0\n",
      "value        0\n",
      "dtype: int64 \n",
      "\n",
      "(3982, 2) \n",
      "\n",
      "             value\n",
      "count  3982.000000\n",
      "mean      1.842166\n",
      "std       0.892532\n",
      "min       0.399227\n",
      "25%       1.248235\n",
      "50%       1.674141\n",
      "75%       2.233915\n",
      "max       7.120453\n",
      "\n",
      "Date range is: 2010-07-17T00:00:00Z to 2021-06-10T00:00:00Z\n"
     ]
    }
   ],
   "source": [
    "mvrv_ratio = pd.read_csv(r'C:/Users/dagar/Bitcoin_Data_Capstone/mvrv-ratio.csv')\n",
    "print(mvrv_ratio.head(), '\\n')\n",
    "print('Number of missing values:\\n', mvrv_ratio.isna().sum(), '\\n')\n",
    "print(mvrv_ratio.shape, '\\n')\n",
    "print(mvrv_ratio.describe())\n",
    "print('\\nDate range is:', mvrv_ratio.iloc[0,0], 'to', mvrv_ratio.iloc[3981,0])"
   ]
  },
  {
   "cell_type": "markdown",
   "metadata": {},
   "source": [
    "There is no missing data from the MVRV dataset. The description of the data looks like an appropriate range of data. The date range is from July 17, 2010 to June 10, 2021 which includes almost the entire date range for price."
   ]
  },
  {
   "cell_type": "markdown",
   "metadata": {},
   "source": [
    "## MVRV Z-Score\n",
    "\n",
    "The MVRV Z-Score is the ratio between the difference of market cap and realized cap divided by the standardized market cap. (market cap - realized cap) / std(market cap).\n",
    "\n",
    "This can indicate a market top when the market value is significantly higher than the realized value. Where as whent he market value is significantly lower than the realized value then is can indicate the market bottom."
   ]
  },
  {
   "cell_type": "code",
   "execution_count": 11,
   "metadata": {},
   "outputs": [
    {
     "name": "stdout",
     "output_type": "stream",
     "text": [
      "              timestamp     value\n",
      "0  2010-07-18T00:00:00Z  2.518053\n",
      "1  2010-07-19T00:00:00Z  2.097027\n",
      "2  2010-07-20T00:00:00Z  1.651545\n",
      "3  2010-07-21T00:00:00Z  1.927019\n",
      "4  2010-07-22T00:00:00Z  0.885502 \n",
      "\n",
      "Number of missing values:\n",
      " timestamp    0\n",
      "value        0\n",
      "dtype: int64 \n",
      "\n",
      "(3981, 2) \n",
      "\n",
      "             value\n",
      "count  3981.000000\n",
      "mean      1.698312\n",
      "std       1.911428\n",
      "min      -0.830057\n",
      "25%       0.459079\n",
      "50%       1.208088\n",
      "75%       2.320322\n",
      "max      12.547296\n",
      "\n",
      "Date range is: 2010-07-18T00:00:00Z to 2021-06-10T00:00:00Z\n"
     ]
    }
   ],
   "source": [
    "mvrv_z = pd.read_csv(r'C:/Users/dagar/Bitcoin_Data_Capstone/mvrv-z-score.csv')\n",
    "print(mvrv_z.head(), '\\n')\n",
    "print('Number of missing values:\\n', mvrv_z.isna().sum(), '\\n')\n",
    "print(mvrv_z.shape, '\\n')\n",
    "print(mvrv_z.describe())\n",
    "print('\\nDate range is:', mvrv_z.iloc[0,0], 'to', mvrv_z.iloc[3980,0])"
   ]
  },
  {
   "cell_type": "markdown",
   "metadata": {},
   "source": [
    "There is no missing data from the MVRV Z-Score dataset. The range of data looks appropriate for this metric. The date range is from July 18, 2010 to June 10, 2021. This range is almost the same amount as the price dataset."
   ]
  },
  {
   "cell_type": "markdown",
   "metadata": {},
   "source": [
    "## Hash Ribbon\n",
    "\n",
    "The Hash Ribbon calculates the spread between the 30-day Moving Average (30dMA) and the 60-day Moving Average (60dMA) for the hash rate of bitcoin miners. When the 30dMA goes above the 60dMA then this usually indicates a change is price momentum from negative to positive. This is indicated by more bitcoin mining activity over the near term (30 days) vs the long term (60 days). Bitcoin miners will mine more when they expect more profits from mining and that is really what this market indicator tries to express. "
   ]
  },
  {
   "cell_type": "code",
   "execution_count": 12,
   "metadata": {},
   "outputs": [
    {
     "name": "stdout",
     "output_type": "stream",
     "text": [
      "              timestamp  buy  capitulation  crossed          ma30  \\\n",
      "0  2009-03-10T00:00:00Z    0             1        0  5.722585e+06   \n",
      "1  2009-03-11T00:00:00Z    0             1        0  5.688013e+06   \n",
      "2  2009-03-12T00:00:00Z    0             1        0  5.685052e+06   \n",
      "3  2009-03-13T00:00:00Z    0             1        0  5.651161e+06   \n",
      "4  2009-03-14T00:00:00Z    0             1        0  5.635171e+06   \n",
      "\n",
      "           ma60  \n",
      "0  5.773043e+06  \n",
      "1  5.838596e+06  \n",
      "2  5.858933e+06  \n",
      "3  5.874558e+06  \n",
      "4  5.864596e+06   \n",
      "\n",
      "Number of missing values:\n",
      " timestamp       0\n",
      "buy             0\n",
      "capitulation    0\n",
      "crossed         0\n",
      "ma30            0\n",
      "ma60            0\n",
      "dtype: int64 \n",
      "\n",
      "(4476, 6) \n",
      "\n",
      "               buy  capitulation      crossed          ma30          ma60\n",
      "count  4476.000000   4476.000000  4476.000000  4.476000e+03  4.476000e+03\n",
      "mean      0.030831      0.148794     0.010724  2.395988e+19  2.342158e+19\n",
      "std       0.172879      0.355925     0.103011  4.388612e+19  4.314600e+19\n",
      "min       0.000000      0.000000     0.000000  2.118003e+06  2.661909e+06\n",
      "25%       0.000000      0.000000     0.000000  1.161947e+13  1.145668e+13\n",
      "50%       0.000000      0.000000     0.000000  3.377052e+17  3.368258e+17\n",
      "75%       0.000000      0.000000     0.000000  2.957451e+19  2.816127e+19\n",
      "max       1.000000      1.000000     1.000000  1.659941e+20  1.638551e+20\n",
      "\n",
      "Date range is: 2009-03-10T00:00:00Z to 2021-06-10T00:00:00Z\n"
     ]
    }
   ],
   "source": [
    "hash_ribbon = pd.read_csv(r'C:/Users/dagar/Bitcoin_Data_Capstone/hash-ribbon.csv')\n",
    "print(hash_ribbon.head(), '\\n')\n",
    "print('Number of missing values:\\n', hash_ribbon.isna().sum(), '\\n')\n",
    "print(hash_ribbon.shape, '\\n')\n",
    "print(hash_ribbon.describe())\n",
    "print('\\nDate range is:', hash_ribbon.iloc[0,0], 'to', hash_ribbon.iloc[4475,0])"
   ]
  },
  {
   "cell_type": "markdown",
   "metadata": {},
   "source": [
    "This dataset is significantly different from the previous datasets. The three columns are to indicate whether it is a good time to buy, miners are capitulating, and whether the ma30 has crossed above the ma60. This data will need to be processed. As of now, I am thinking of creating one column that has the difference between the 30dMA and 60dMA for hash rate. When that difference is positive the 30dMA is above the 60dMA, which will be an indicator. \n",
    "\n",
    "The date range is from March 10 2009 to June 10, 2021. This is the largest date range and will need to be changed."
   ]
  },
  {
   "cell_type": "markdown",
   "metadata": {},
   "source": [
    "## Exchange Net Flow Volume\n",
    "\n",
    "The Exchange Net Flow Volume is the difference between the volume of bitcoin flowing in to trading exchanges compared to the volume of bitcoin flowing out of trading exchanges. This metric can give insight to whether a large sell off of bitcoin is soon to happen, since the coins must be moved to from storage wallets to exchanges prior to selling. As well, new bitcoin users tend to keep more coins on the exchange from which they purchased the coins out of convenience and inexperience. More experienced buyers transfer their purchased coins into storage wallets that are more secure but a bit more complicated to use.\n",
    "\n",
    "This dataset does have some weakness in that there is no way to know through blockchain analytics that all the exchange addresses are correctly accounted for. The new exchange addresses can be added and the data collection needs to properly label the new address but that requires extra steps done outside of the blockchain."
   ]
  },
  {
   "cell_type": "code",
   "execution_count": 13,
   "metadata": {},
   "outputs": [
    {
     "name": "stdout",
     "output_type": "stream",
     "text": [
      "              timestamp     value\n",
      "0  2011-08-29T00:00:00Z  8.456522\n",
      "1  2011-08-30T00:00:00Z  0.000000\n",
      "2  2011-08-31T00:00:00Z  3.010000\n",
      "3  2011-09-01T00:00:00Z  5.000000\n",
      "4  2011-09-02T00:00:00Z  0.090000 \n",
      "\n",
      "Number of missing values:\n",
      " timestamp    0\n",
      "value        0\n",
      "dtype: int64 \n",
      "\n",
      "(3574, 2) \n",
      "\n",
      "              value\n",
      "count   3574.000000\n",
      "mean     725.152970\n",
      "std     7531.291254\n",
      "min   -69789.449136\n",
      "25%    -1742.075173\n",
      "50%      232.011620\n",
      "75%     2808.306393\n",
      "max    96773.475258\n",
      "\n",
      "Date range is: 2011-08-29T00:00:00Z to 2021-06-10T00:00:00Z\n"
     ]
    }
   ],
   "source": [
    "enfv = pd.read_csv(r'C:/Users/dagar/Bitcoin_Data_Capstone/exchange-net-flow-volume.csv')\n",
    "print(enfv.head(), '\\n')\n",
    "print('Number of missing values:\\n', enfv.isna().sum(), '\\n')\n",
    "print(enfv.shape, '\\n')\n",
    "print(enfv.describe())\n",
    "print('\\nDate range is:', enfv.iloc[0,0], 'to', enfv.iloc[3573,0])"
   ]
  },
  {
   "cell_type": "markdown",
   "metadata": {},
   "source": [
    "The range of data for Exchange Net Flow Volume looks to be a good range. The date range is from August 29, 2011 to June 10, 2021 which is the smallest date range so far. The ENFV data covers 90% of the price data, thus big enough for analysis"
   ]
  },
  {
   "cell_type": "markdown",
   "metadata": {},
   "source": [
    "## Difficulty Ribbon\n",
    "\n",
    "The Difficulty Ribbon consists of the 200, 128, 90, 60, 40, 25, and 14-day moving averages of the mining difficulty. The mining difficulty increases as mining computers have higher processing speeds and also when more mining computers come online to mine in the blockchain. When the multi-day moving averages for mining difficulty consolidate towards the same value that usually indicates a good time to buy bitcoin and a price increase is likely to follow."
   ]
  },
  {
   "cell_type": "code",
   "execution_count": 14,
   "metadata": {},
   "outputs": [
    {
     "name": "stdout",
     "output_type": "stream",
     "text": [
      "              timestamp                   ma128                    ma14  \\\n",
      "0  2017-05-31T00:00:00Z  2090873105297871500000  2504319261575269000000   \n",
      "\n",
      "                    ma200                    ma25                    ma40  \\\n",
      "0  1809251068213638500000  2441060540318510000000  2365735778685950000000   \n",
      "\n",
      "                     ma60                     ma9                    ma90  \n",
      "0  2306104330445788800000  2559465144851490000000  2211896313063676000000   \n",
      "\n",
      "Number of missing values:\n",
      " timestamp    0\n",
      "ma128        0\n",
      "ma14         0\n",
      "ma200        0\n",
      "ma25         0\n",
      "ma40         0\n",
      "ma60         0\n",
      "ma9          0\n",
      "ma90         0\n",
      "dtype: int64 \n",
      "\n",
      "(1472, 9) \n",
      "\n",
      "                   timestamp                    ma128  \\\n",
      "count                   1472                     1472   \n",
      "unique                  1472                     1472   \n",
      "top     2018-01-11T00:00:00Z  79356108812926400000000   \n",
      "freq                       1                        1   \n",
      "\n",
      "                           ma14                    ma200  \\\n",
      "count                      1472                     1472   \n",
      "unique                     1445                     1472   \n",
      "top     85887904103269710000000  79185686172177910000000   \n",
      "freq                          4                        1   \n",
      "\n",
      "                           ma25                     ma40  \\\n",
      "count                      1472                     1472   \n",
      "unique                     1472                     1472   \n",
      "top     26176902583681557000000  77755773383953380000000   \n",
      "freq                          1                        1   \n",
      "\n",
      "                          ma60                       ma9  \\\n",
      "count                     1472                      1472   \n",
      "unique                    1472                       973   \n",
      "top     5638423947611240000000  107573845079077980000000   \n",
      "freq                         1                         9   \n",
      "\n",
      "                           ma90  \n",
      "count                      1472  \n",
      "unique                     1472  \n",
      "top     30222430948498352000000  \n",
      "freq                          1  \n",
      "\n",
      "Date range is: 2017-05-31T00:00:00Z to 2021-06-10T00:00:00Z\n"
     ]
    }
   ],
   "source": [
    "diff_ribbon = pd.read_csv(r'C:/Users/dagar/Bitcoin_Data_Capstone/difficulty-ribbon.csv')\n",
    "print(diff_ribbon.head(1), '\\n')\n",
    "print('Number of missing values:\\n', diff_ribbon.isna().sum(), '\\n')\n",
    "print(diff_ribbon.shape, '\\n')\n",
    "print(diff_ribbon.describe())\n",
    "print('\\nDate range is:', diff_ribbon.iloc[0,0], 'to', diff_ribbon.iloc[1471,0])"
   ]
  },
  {
   "cell_type": "markdown",
   "metadata": {},
   "source": [
    "There is no missing data from this dataset. The data here needs to be processed to clarify the idea. The most likely processing will be to get the difference between all the Moving Averages, therefor when the difference is small they have consolidated and when the value is larger the values are further apart.\n",
    "\n",
    "A concern here is the date range. Much smaller than the other metrics this will have to be considered. It only covers 37% of the price data"
   ]
  },
  {
   "cell_type": "markdown",
   "metadata": {},
   "source": [
    "## CVDD\n",
    "\n",
    "Cumulative Value-Days Destroyed (CVDD) is the ratio of the cumulative USD value of Coin Days Destroyed and the market age in days. Coin Days Destroyed (CDD) is calculated by taking the number of coins in a transaction and multiplying it by the number of days it has been since those coins were last spent. The CDD metric gives an analysis of bitcoin transaction volume but gives more weight to the coins which have not been spent in a long time. It can be a sign that the market is turning bearish when you see the CDD value be a high value consistently. Now, the CVDD gives USD value to the CDD and then divides by the market age in days, which gives an insight into the value released by the CDD. The CVDD has traditionally been floor for the price during bear markets and can help indicate a bear market bottom or consolidation phase."
   ]
  },
  {
   "cell_type": "code",
   "execution_count": 20,
   "metadata": {},
   "outputs": [
    {
     "name": "stdout",
     "output_type": "stream",
     "text": [
      "              timestamp         value\n",
      "0  2010-07-17T00:00:00Z  9.583721e-09 \n",
      "\n",
      "Number of missing values:\n",
      " timestamp    0\n",
      "value        0\n",
      "dtype: int64 \n",
      "\n",
      "(3982, 2) \n",
      "\n",
      "              value\n",
      "count  3.982000e+03\n",
      "mean   1.344208e+03\n",
      "std    2.007571e+03\n",
      "min    9.583721e-09\n",
      "25%    6.929988e+00\n",
      "50%    1.694949e+02\n",
      "75%    2.657301e+03\n",
      "max    9.546828e+03\n",
      "\n",
      "Date range is: 2010-07-17T00:00:00Z to 2021-06-10T00:00:00Z\n"
     ]
    }
   ],
   "source": [
    "cvdd = pd.read_csv(r'C:/Users/dagar/Bitcoin_Data_Capstone/cvdd.csv')\n",
    "print(cvdd.head(1), '\\n')\n",
    "print('Number of missing values:\\n', cvdd.isna().sum(), '\\n')\n",
    "print(cvdd.shape, '\\n')\n",
    "print(cvdd.describe())\n",
    "print('\\nDate range is:', cvdd.iloc[0,0], 'to', cvdd.iloc[3981,0])"
   ]
  },
  {
   "cell_type": "markdown",
   "metadata": {},
   "source": [
    "The CVDD dataset has no missing values. The range of data values has a wide spread but may be better for analysis if the earlier data is ignored since those values are very small and seem to be outliers. The date range is from July 17, 2010 to June 10, 2021. This represents most of the price data date range, and will likely be shrunk to accommodate for other data metric date limitations."
   ]
  },
  {
   "cell_type": "markdown",
   "metadata": {},
   "source": [
    "## CYD\n",
    "Coin Years Destroyed is a 365 day rolling sum of the Coin Days Destroyed (CDD) described earlier. This gives insight into the amount of old coins traded in the market place. This can be seen as an indicator of long-term holder behaviour. When CYD is high, then more long-term investors are selling their coins. When CYD is low, long-term investors are holding onto their coins and most transactions are from recent investors."
   ]
  },
  {
   "cell_type": "code",
   "execution_count": 22,
   "metadata": {},
   "outputs": [
    {
     "name": "stdout",
     "output_type": "stream",
     "text": [
      "              timestamp         value\n",
      "0  2010-01-11T00:00:00Z  3.461755e+06 \n",
      "\n",
      "Number of missing values:\n",
      " timestamp    0\n",
      "value        0\n",
      "dtype: int64 \n",
      "\n",
      "(4169, 2) \n",
      "\n",
      "              value\n",
      "count  4.169000e+03\n",
      "mean   2.521463e+09\n",
      "std    1.578675e+09\n",
      "min    3.461755e+06\n",
      "25%    1.281882e+09\n",
      "50%    2.459569e+09\n",
      "75%    3.487977e+09\n",
      "max    6.728864e+09\n",
      "\n",
      "Date range is: 2010-01-11T00:00:00Z to 2021-06-10T00:00:00Z\n"
     ]
    }
   ],
   "source": [
    "cyd = pd.read_csv(r'C:/Users/dagar/Bitcoin_Data_Capstone/cyd.csv')\n",
    "print(cyd.head(1), '\\n')\n",
    "print('Number of missing values:\\n', cyd.isna().sum(), '\\n')\n",
    "print(cyd.shape, '\\n')\n",
    "print(cyd.describe())\n",
    "print('\\nDate range is:', cyd.iloc[0,0], 'to', cyd.iloc[4168,0])"
   ]
  },
  {
   "cell_type": "markdown",
   "metadata": {},
   "source": [
    "There are no missing values for the CYD dataset. The data values all fall within a nice range, though early data points will likely be removed and that will make the data even more uniform. The date range covers most of the price data date range, though it will likely be narrowed to accommodate for other metrics."
   ]
  },
  {
   "cell_type": "markdown",
   "metadata": {},
   "source": [
    "## Address Balances\n",
    "\n",
    "This metric measures the number of wallet addresses holding bitcoin. The addresses are divided into categories based on the amount of bitcoin held in the wallet (0.01 BTC up to 10,000 BTC). This metric is a measure of buying euphoria or mass adoption. If the number of small wallets relative to large wallets gets large, then that means more \"Main Street\" buyers are entering the market place, which indicates either euphoric speculation (get rich quick buyers) or mass adoption of bitcoin as a store of wealth. As well, when the number of the largest wallets begin to decrease, that indicates the large investors are taking profits and off-loading some bitcoin. Typically that leads to a market top for bitcoin price."
   ]
  },
  {
   "cell_type": "code",
   "execution_count": 29,
   "metadata": {},
   "outputs": [
    {
     "name": "stdout",
     "output_type": "stream",
     "text": [
      "              timestamp   >0.01    >0.1      >1    >10  >100  >1k  >10k\n",
      "0  2011-08-28T00:00:00Z  212838  135241  104760  65766  4233  641    81\n",
      "1  2011-08-29T00:00:00Z  213432  135626  105052  65920  4259  640    80\n",
      "2  2011-08-30T00:00:00Z  213985  136035  105391  66054  4271  640    80\n",
      "3  2011-08-31T00:00:00Z  214506  136380  105571  66192  4296  640    80\n",
      "4  2011-09-01T00:00:00Z  214595  136253  105366  66160  4325  640    80 \n",
      "\n",
      "Number of missing values:\n",
      " timestamp    0\n",
      ">0.01        0\n",
      ">0.1         0\n",
      ">1           0\n",
      ">10          0\n",
      ">100         0\n",
      ">1k          0\n",
      ">10k         0\n",
      "dtype: int64 \n",
      "\n",
      "(3575, 8) \n",
      "\n",
      "              >0.01          >0.1             >1            >10          >100  \\\n",
      "count  3.575000e+03  3.575000e+03    3575.000000    3575.000000   3575.000000   \n",
      "mean   3.788288e+06  1.501435e+06  493099.252867  127430.827692  14884.260420   \n",
      "std    3.064763e+06  1.072602e+06  244165.451847   28008.653875   3368.855658   \n",
      "min    2.128380e+05  1.352410e+05  104760.000000   65766.000000   4233.000000   \n",
      "25%    9.225310e+05  5.140150e+05  273370.500000  103854.500000  13122.500000   \n",
      "50%    2.779025e+06  1.274175e+06  506812.000000  140268.000000  16191.000000   \n",
      "75%    6.669703e+06  2.551553e+06  723225.500000  149871.500000  17078.000000   \n",
      "max    9.161934e+06  3.258100e+06  830579.000000  157275.000000  18543.000000   \n",
      "\n",
      "               >1k         >10k  \n",
      "count  3575.000000  3575.000000  \n",
      "mean   1667.113566   102.163636  \n",
      "std     392.305834    14.203388  \n",
      "min     629.000000    63.000000  \n",
      "25%    1515.000000    96.000000  \n",
      "50%    1713.000000   105.000000  \n",
      "75%    1883.000000   112.000000  \n",
      "max    2488.000000   126.000000  \n",
      "\n",
      "Date range is: 2011-08-28T00:00:00Z to 2021-06-10T00:00:00Z\n"
     ]
    }
   ],
   "source": [
    "address_above_100 = pd.read_csv(r'C:/Users/dagar/Bitcoin_Data_Capstone/addresses-above-100.csv')\n",
    "address_above_10k = pd.read_csv(r'C:/Users/dagar/Bitcoin_Data_Capstone/addresses-above-10k.csv')\n",
    "address_above_10 = pd.read_csv(r'C:/Users/dagar/Bitcoin_Data_Capstone/addresses-above-10.csv')\n",
    "address_above_1k = pd.read_csv(r'C:/Users/dagar/Bitcoin_Data_Capstone/addresses-above-1k.csv')\n",
    "address_above_1 = pd.read_csv(r'C:/Users/dagar/Bitcoin_Data_Capstone/addresses-above-1.csv')\n",
    "address_above_0_1 = pd.read_csv(r'C:/Users/dagar/Bitcoin_Data_Capstone/addresses-above-0-1.csv')\n",
    "address_above_0_01 = pd.read_csv(r'C:/Users/dagar/Bitcoin_Data_Capstone/addresses-above-0-01.csv')\n",
    "\n",
    "# concatenate the different dataframes into one dataframe\n",
    "col_names = ['timestamp','>0.01', '>0.1', '>1', '>10', '>100', '>1k', '>10k']\n",
    "address_data = pd.concat([address_above_0_01, address_above_0_1.iloc[: , 1], address_above_1.iloc[:,1], \n",
    "                          address_above_10.iloc[: , 1], address_above_100.iloc[:, 1], address_above_1k.iloc[:, 1],\n",
    "                          address_above_10k.iloc[:, 1]], axis=1)\n",
    "\n",
    "address_data.columns = col_names\n",
    "print(address_data.head(5), '\\n')\n",
    "print('Number of missing values:\\n', address_data.isna().sum(), '\\n')\n",
    "print(address_data.shape, '\\n')\n",
    "print(address_data.describe())\n",
    "print('\\nDate range is:', address_data.iloc[0,0], 'to', address_data.iloc[3574,0])"
   ]
  },
  {
   "cell_type": "markdown",
   "metadata": {},
   "source": [
    "There are no missing data values for the Address dataset. The range of data has no suspicious values. The date range for the data is from August 28, 2011 to June 10, 2021 which represents 90% of the price data. This can reliably be used for analysis"
   ]
  },
  {
   "cell_type": "markdown",
   "metadata": {},
   "source": [
    "## Summary\n",
    "\n",
    "August 29, 2011 to June 20, 2021 will be the date range since that is the smallest range of data that covers at least 90% of the price data points. This date range is originated from the ENFV dataset.\n",
    "\n",
    "The Difficulty Ribbon data will not be used since the date range is too limited and would only cover 37% of the price data.\n",
    "\n",
    "The datasets are not missing any values. There is still further analysis of the data for processing of the values. Some may need to be normalized, outliers may need to be adjsuted for, and some data need to be converted from multiple columns to single columns.\n",
    "\n",
    "**Further analysis and cleaning needed, but the data wrangling is complete for initial training.**\n",
    "\n",
    "**Data to be used: 14 independent variable datasets * roughly 3500 data points = 49000 independent data points**"
   ]
  },
  {
   "cell_type": "code",
   "execution_count": null,
   "metadata": {},
   "outputs": [],
   "source": []
  }
 ],
 "metadata": {
  "kernelspec": {
   "display_name": "Python 3",
   "language": "python",
   "name": "python3"
  },
  "language_info": {
   "codemirror_mode": {
    "name": "ipython",
    "version": 3
   },
   "file_extension": ".py",
   "mimetype": "text/x-python",
   "name": "python",
   "nbconvert_exporter": "python",
   "pygments_lexer": "ipython3",
   "version": "3.8.5"
  }
 },
 "nbformat": 4,
 "nbformat_minor": 4
}
